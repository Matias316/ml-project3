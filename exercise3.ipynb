{
 "cells": [
  {
   "cell_type": "code",
   "execution_count": 15,
   "id": "a53ed9d9-dd16-4909-abb4-a9c7609ebbbb",
   "metadata": {},
   "outputs": [],
   "source": [
    "import pandas as pd\n",
    "import numpy as np\n",
    "import matplotlib.pyplot as plt\n",
    "from sklearn.linear_model import LogisticRegression\n",
    "from sklearn.model_selection import train_test_split\n",
    "from sklearn.preprocessing import MinMaxScaler"
   ]
  },
  {
   "cell_type": "code",
   "execution_count": 16,
   "id": "d1fbd75a-6956-482b-8c7c-994bb9c99981",
   "metadata": {},
   "outputs": [
    {
     "data": {
      "text/html": [
       "<div>\n",
       "<style scoped>\n",
       "    .dataframe tbody tr th:only-of-type {\n",
       "        vertical-align: middle;\n",
       "    }\n",
       "\n",
       "    .dataframe tbody tr th {\n",
       "        vertical-align: top;\n",
       "    }\n",
       "\n",
       "    .dataframe thead th {\n",
       "        text-align: right;\n",
       "    }\n",
       "</style>\n",
       "<table border=\"1\" class=\"dataframe\">\n",
       "  <thead>\n",
       "    <tr style=\"text-align: right;\">\n",
       "      <th></th>\n",
       "      <th>alert_timestamp</th>\n",
       "      <th>Alert/Action</th>\n",
       "    </tr>\n",
       "  </thead>\n",
       "  <tbody>\n",
       "    <tr>\n",
       "      <th>0</th>\n",
       "      <td>2022-03-24 07:00:05.723000+00:00</td>\n",
       "      <td>Alert type 1</td>\n",
       "    </tr>\n",
       "    <tr>\n",
       "      <th>1</th>\n",
       "      <td>2022-03-24 07:00:05.813000+00:00</td>\n",
       "      <td>Alert type 5</td>\n",
       "    </tr>\n",
       "    <tr>\n",
       "      <th>2</th>\n",
       "      <td>2022-03-24 07:00:07.723000+00:00</td>\n",
       "      <td>Alert type 5</td>\n",
       "    </tr>\n",
       "    <tr>\n",
       "      <th>3</th>\n",
       "      <td>2022-03-24 07:00:09.723000+00:00</td>\n",
       "      <td>Alert type 6</td>\n",
       "    </tr>\n",
       "    <tr>\n",
       "      <th>4</th>\n",
       "      <td>2022-03-24 07:00:11.723000+00:00</td>\n",
       "      <td>Alert type 5</td>\n",
       "    </tr>\n",
       "  </tbody>\n",
       "</table>\n",
       "</div>"
      ],
      "text/plain": [
       "                    alert_timestamp  Alert/Action\n",
       "0  2022-03-24 07:00:05.723000+00:00  Alert type 1\n",
       "1  2022-03-24 07:00:05.813000+00:00  Alert type 5\n",
       "2  2022-03-24 07:00:07.723000+00:00  Alert type 5\n",
       "3  2022-03-24 07:00:09.723000+00:00  Alert type 6\n",
       "4  2022-03-24 07:00:11.723000+00:00  Alert type 5"
      ]
     },
     "execution_count": 16,
     "metadata": {},
     "output_type": "execute_result"
    }
   ],
   "source": [
    "alerts_df = pd.read_excel('datasets/alerts.xlsx')\n",
    "alerts_df.head()"
   ]
  },
  {
   "cell_type": "code",
   "execution_count": 17,
   "id": "19787e0b-8195-473f-96f4-5a733750e0a4",
   "metadata": {},
   "outputs": [
    {
     "data": {
      "text/plain": [
       "Action          3\n",
       "Alert type 1    1\n",
       "Alert type 5    6\n",
       "Alert type 6    1\n",
       "Name: Alert/Action, dtype: int64"
      ]
     },
     "execution_count": 17,
     "metadata": {},
     "output_type": "execute_result"
    }
   ],
   "source": [
    "#The number of alerts seems to be repeated in some cases: type 1 = type 4, type 10 = type 11 = type 13, etc.\n",
    "alerts_df['Alert/Action'].value_counts().sort_index()"
   ]
  },
  {
   "cell_type": "code",
   "execution_count": 18,
   "id": "e61476c5-4092-403b-90d9-924ffc6bdbd4",
   "metadata": {},
   "outputs": [
    {
     "data": {
      "text/plain": [
       "alert_timestamp    0\n",
       "Alert/Action       0\n",
       "dtype: int64"
      ]
     },
     "execution_count": 18,
     "metadata": {},
     "output_type": "execute_result"
    }
   ],
   "source": [
    "#Validating null values\n",
    "alerts_df.isnull().sum()"
   ]
  },
  {
   "cell_type": "code",
   "execution_count": 19,
   "id": "a47c7d1e-2757-4ad2-b9b0-6d1cf8c953ba",
   "metadata": {},
   "outputs": [],
   "source": [
    "alerts_df[\"Alert/Action\"] = alerts_df[\"Alert/Action\"].astype(\"category\")"
   ]
  },
  {
   "cell_type": "code",
   "execution_count": 20,
   "id": "bf025e8f-8651-46ab-abb7-5b7376607d71",
   "metadata": {},
   "outputs": [
    {
     "name": "stdout",
     "output_type": "stream",
     "text": [
      "            alert_timestamp  Alert/Action\n",
      "0 2022-03-24 07:00:00+00:00  Alert type 1\n",
      "1 2022-03-24 07:00:00+00:00  Alert type 5\n",
      "2 2022-03-24 07:00:00+00:00  Alert type 5\n",
      "3 2022-03-24 07:00:00+00:00  Alert type 6\n",
      "4 2022-03-24 07:00:00+00:00  Alert type 5\n"
     ]
    }
   ],
   "source": [
    "#Converting to datetime timezone aware without msecs\n",
    "alerts_df[\"alert_timestamp\"] = pd.to_datetime(alerts_df[\"alert_timestamp\"], infer_datetime_format=True, utc=True).dt.floor('3T')\n",
    "print(alerts_df.head())"
   ]
  },
  {
   "cell_type": "code",
   "execution_count": 23,
   "id": "c09d8b20-1d54-40c0-b437-7e74f05d1513",
   "metadata": {},
   "outputs": [
    {
     "name": "stdout",
     "output_type": "stream",
     "text": [
      "            alert_timestamp  Alert/Action_Action  Alert/Action_Alert type 1  \\\n",
      "0 2022-03-24 07:00:00+00:00                    0                          1   \n",
      "1 2022-03-24 07:00:00+00:00                    0                          0   \n",
      "2 2022-03-24 07:00:00+00:00                    0                          0   \n",
      "3 2022-03-24 07:00:00+00:00                    0                          0   \n",
      "4 2022-03-24 07:00:00+00:00                    0                          0   \n",
      "\n",
      "   Alert/Action_Alert type 5  Alert/Action_Alert type 6  \n",
      "0                          0                          0  \n",
      "1                          1                          0  \n",
      "2                          1                          0  \n",
      "3                          0                          1  \n",
      "4                          1                          0  \n"
     ]
    }
   ],
   "source": [
    "alerts_df = pd.get_dummies(alerts_df)\n",
    "print(alerts_df.head())"
   ]
  },
  {
   "cell_type": "code",
   "execution_count": 24,
   "id": "9d0da06d-e677-4fcd-a763-36442fda8c0e",
   "metadata": {},
   "outputs": [
    {
     "name": "stdout",
     "output_type": "stream",
     "text": [
      "                           Alert/Action_Action  Alert/Action_Alert type 1  \\\n",
      "alert_timestamp                                                             \n",
      "2022-03-24 07:00:00+00:00                    0                          1   \n",
      "2022-03-24 07:03:00+00:00                    1                          0   \n",
      "2022-03-24 07:06:00+00:00                    1                          0   \n",
      "\n",
      "                           Alert/Action_Alert type 5  \\\n",
      "alert_timestamp                                        \n",
      "2022-03-24 07:00:00+00:00                          1   \n",
      "2022-03-24 07:03:00+00:00                          1   \n",
      "2022-03-24 07:06:00+00:00                          0   \n",
      "\n",
      "                           Alert/Action_Alert type 6  \n",
      "alert_timestamp                                       \n",
      "2022-03-24 07:00:00+00:00                          1  \n",
      "2022-03-24 07:03:00+00:00                          0  \n",
      "2022-03-24 07:06:00+00:00                          0  \n"
     ]
    }
   ],
   "source": [
    "pivot = pd.pivot_table(alerts_df, index=['alert_timestamp'], aggfunc=np.max, fill_value=0)\n",
    "print(pivot)"
   ]
  },
  {
   "cell_type": "code",
   "execution_count": 25,
   "id": "497399ef-31d6-4300-8e54-6f36c5ea9c95",
   "metadata": {},
   "outputs": [],
   "source": [
    "#Creating logistic regression model\n",
    "logreg = LogisticRegression()"
   ]
  },
  {
   "cell_type": "code",
   "execution_count": 26,
   "id": "b8ee0308-20db-4e7a-baff-4b626dbb4670",
   "metadata": {},
   "outputs": [],
   "source": [
    "#Segregate features and labels into separate variables\n",
    "X = pivot.loc[:, pivot.columns != \"Alert/Action_Action\"]\n",
    "y = pivot.loc[:, pivot.columns == \"Alert/Action_Action\"]\n",
    "\n",
    "X_train, X_test, y_train, y_test = train_test_split(X, y, test_size=0.4, random_state=42)"
   ]
  },
  {
   "cell_type": "code",
   "execution_count": 32,
   "id": "cd457498-0973-4f37-b3d5-fc6bc02d5d66",
   "metadata": {},
   "outputs": [
    {
     "ename": "ValueError",
     "evalue": "This solver needs samples of at least 2 classes in the data, but the data contains only one class: 1",
     "output_type": "error",
     "traceback": [
      "\u001b[1;31m---------------------------------------------------------------------------\u001b[0m",
      "\u001b[1;31mValueError\u001b[0m                                Traceback (most recent call last)",
      "Input \u001b[1;32mIn [32]\u001b[0m, in \u001b[0;36m<cell line: 5>\u001b[1;34m()\u001b[0m\n\u001b[0;32m      2\u001b[0m rescaledX_train \u001b[38;5;241m=\u001b[39m scaler\u001b[38;5;241m.\u001b[39mfit_transform(X_train)\n\u001b[0;32m      3\u001b[0m rescaledX_test \u001b[38;5;241m=\u001b[39m scaler\u001b[38;5;241m.\u001b[39mtransform(X_test)\n\u001b[1;32m----> 5\u001b[0m \u001b[43mlogreg\u001b[49m\u001b[38;5;241;43m.\u001b[39;49m\u001b[43mfit\u001b[49m\u001b[43m(\u001b[49m\u001b[43mX_train\u001b[49m\u001b[43m,\u001b[49m\u001b[43m \u001b[49m\u001b[43my_train\u001b[49m\u001b[38;5;241;43m.\u001b[39;49m\u001b[43mvalues\u001b[49m\u001b[38;5;241;43m.\u001b[39;49m\u001b[43mravel\u001b[49m\u001b[43m(\u001b[49m\u001b[43m)\u001b[49m\u001b[43m)\u001b[49m\n\u001b[0;32m      6\u001b[0m y_pred \u001b[38;5;241m=\u001b[39m logreg\u001b[38;5;241m.\u001b[39mpredict(X_test)\n\u001b[0;32m      7\u001b[0m np\u001b[38;5;241m.\u001b[39mexp(logreg\u001b[38;5;241m.\u001b[39mcoef_)\n",
      "File \u001b[1;32m~\\AppData\\Local\\Programs\\Python\\Python310\\lib\\site-packages\\sklearn\\linear_model\\_logistic.py:1183\u001b[0m, in \u001b[0;36mLogisticRegression.fit\u001b[1;34m(self, X, y, sample_weight)\u001b[0m\n\u001b[0;32m   1181\u001b[0m classes_ \u001b[38;5;241m=\u001b[39m \u001b[38;5;28mself\u001b[39m\u001b[38;5;241m.\u001b[39mclasses_\n\u001b[0;32m   1182\u001b[0m \u001b[38;5;28;01mif\u001b[39;00m n_classes \u001b[38;5;241m<\u001b[39m \u001b[38;5;241m2\u001b[39m:\n\u001b[1;32m-> 1183\u001b[0m     \u001b[38;5;28;01mraise\u001b[39;00m \u001b[38;5;167;01mValueError\u001b[39;00m(\n\u001b[0;32m   1184\u001b[0m         \u001b[38;5;124m\"\u001b[39m\u001b[38;5;124mThis solver needs samples of at least 2 classes\u001b[39m\u001b[38;5;124m\"\u001b[39m\n\u001b[0;32m   1185\u001b[0m         \u001b[38;5;124m\"\u001b[39m\u001b[38;5;124m in the data, but the data contains only one\u001b[39m\u001b[38;5;124m\"\u001b[39m\n\u001b[0;32m   1186\u001b[0m         \u001b[38;5;124m\"\u001b[39m\u001b[38;5;124m class: \u001b[39m\u001b[38;5;132;01m%r\u001b[39;00m\u001b[38;5;124m\"\u001b[39m\n\u001b[0;32m   1187\u001b[0m         \u001b[38;5;241m%\u001b[39m classes_[\u001b[38;5;241m0\u001b[39m]\n\u001b[0;32m   1188\u001b[0m     )\n\u001b[0;32m   1190\u001b[0m \u001b[38;5;28;01mif\u001b[39;00m \u001b[38;5;28mlen\u001b[39m(\u001b[38;5;28mself\u001b[39m\u001b[38;5;241m.\u001b[39mclasses_) \u001b[38;5;241m==\u001b[39m \u001b[38;5;241m2\u001b[39m:\n\u001b[0;32m   1191\u001b[0m     n_classes \u001b[38;5;241m=\u001b[39m \u001b[38;5;241m1\u001b[39m\n",
      "\u001b[1;31mValueError\u001b[0m: This solver needs samples of at least 2 classes in the data, but the data contains only one class: 1"
     ]
    }
   ],
   "source": [
    "scaler = MinMaxScaler(feature_range=(0,1))\n",
    "rescaledX_train = scaler.fit_transform(X_train)\n",
    "rescaledX_test = scaler.fit_transform(X_test)\n",
    "\n",
    "logreg.fit(X_train, y_train.values.ravel())\n",
    "y_pred = logreg.predict(X_test)\n",
    "np.exp(logreg.coef_)"
   ]
  },
  {
   "cell_type": "code",
   "execution_count": null,
   "id": "a73a035f-6a99-4af8-b088-a6229fcd0d1b",
   "metadata": {},
   "outputs": [],
   "source": []
  }
 ],
 "metadata": {
  "kernelspec": {
   "display_name": "Python 3 (ipykernel)",
   "language": "python",
   "name": "python3"
  },
  "language_info": {
   "codemirror_mode": {
    "name": "ipython",
    "version": 3
   },
   "file_extension": ".py",
   "mimetype": "text/x-python",
   "name": "python",
   "nbconvert_exporter": "python",
   "pygments_lexer": "ipython3",
   "version": "3.10.2"
  }
 },
 "nbformat": 4,
 "nbformat_minor": 5
}
